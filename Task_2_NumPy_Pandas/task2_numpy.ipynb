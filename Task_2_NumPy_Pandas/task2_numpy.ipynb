{
 "cells": [
  {
   "cell_type": "markdown",
   "id": "d3df79dd",
   "metadata": {},
   "source": [
    "## Упражнения по библиотеке Numpy"
   ]
  },
  {
   "cell_type": "code",
   "execution_count": 1,
   "id": "76b9c43b",
   "metadata": {},
   "outputs": [],
   "source": [
    "import numpy as np"
   ]
  },
  {
   "cell_type": "markdown",
   "id": "03727b7c",
   "metadata": {},
   "source": [
    "**1.** Дан случайный массив, поменять знак у элементов, значения которых между 3 и 8"
   ]
  },
  {
   "cell_type": "code",
   "execution_count": 2,
   "id": "b89a7523",
   "metadata": {},
   "outputs": [
    {
     "name": "stdout",
     "output_type": "stream",
     "text": [
      "Исходный массив: [ 7  1  4 10  3  5  1  3  9  5]\n",
      "Массив после изменения знаков: [-7  1 -4 10 -3 -5  1 -3  9 -5]\n"
     ]
    }
   ],
   "source": [
    "arr = np.random.randint(0, 11, size=10)\n",
    "print(\"Исходный массив:\", arr)\n",
    "\n",
    "arr = np.where((arr >= 3) & (arr <= 8), -arr, arr)\n",
    "\n",
    "print(\"Массив после изменения знаков:\", arr)\n"
   ]
  },
  {
   "cell_type": "markdown",
   "id": "5fa4abda",
   "metadata": {},
   "source": [
    "**2.** Заменить максимальный элемент случайного массива на 0"
   ]
  },
  {
   "cell_type": "code",
   "execution_count": 3,
   "id": "f2788a6e",
   "metadata": {},
   "outputs": [
    {
     "name": "stdout",
     "output_type": "stream",
     "text": [
      "Исходный массив: [ 1  6 10  9  7  4  0  4  6  7]\n",
      "Массив после замены максимального элемента на 0: [1 6 0 9 7 4 0 4 6 7]\n"
     ]
    }
   ],
   "source": [
    "import numpy as np\n",
    "\n",
    "arr = np.random.randint(0, 11, size=10)\n",
    "print(\"Исходный массив:\", arr)\n",
    "\n",
    "max_index = np.argmax(arr)\n",
    "\n",
    "arr[max_index] = 0\n",
    "\n",
    "print(\"Массив после замены максимального элемента на 0:\", arr)\n"
   ]
  },
  {
   "cell_type": "markdown",
   "id": "3cac656b",
   "metadata": {},
   "source": [
    "**3.** Построить прямое произведение массивов (все комбинации с каждым элементом). На вход подается двумерный массив"
   ]
  },
  {
   "cell_type": "code",
   "execution_count": 5,
   "id": "3396b764",
   "metadata": {},
   "outputs": [
    {
     "name": "stdout",
     "output_type": "stream",
     "text": [
      "Исходный массив:\n",
      "[1, 2]\n",
      "[3, 4, 5]\n",
      "[6, 7]\n",
      "\n",
      "Прямое произведение:\n",
      "[[1 3 6]\n",
      " [1 3 7]\n",
      " [1 4 6]\n",
      " [1 4 7]\n",
      " [1 5 6]\n",
      " [1 5 7]\n",
      " [2 3 6]\n",
      " [2 3 7]\n",
      " [2 4 6]\n",
      " [2 4 7]\n",
      " [2 5 6]\n",
      " [2 5 7]]\n"
     ]
    }
   ],
   "source": [
    "from itertools import product\n",
    "\n",
    "# Пример произвольного двумерного массива (строки могут быть разной длины)\n",
    "arr = [\n",
    "    [1, 2],\n",
    "    [3, 4, 5],\n",
    "    [6, 7]\n",
    "]\n",
    "\n",
    "cartesian = np.array(list(product(*arr)))\n",
    "\n",
    "print(\"Исходный массив:\")\n",
    "for row in arr:\n",
    "    print(row)\n",
    "\n",
    "print(\"\\nПрямое произведение:\")\n",
    "print(cartesian)"
   ]
  },
  {
   "cell_type": "markdown",
   "id": "674c9354",
   "metadata": {},
   "source": [
    "**4.** Даны 2 массива A (8x3) и B (2x2). Найти строки в A, которые содержат элементы из каждой строки в B, независимо от порядка элементов в B"
   ]
  },
  {
   "cell_type": "code",
   "execution_count": 11,
   "id": "cb664782",
   "metadata": {
    "scrolled": true
   },
   "outputs": [
    {
     "name": "stdout",
     "output_type": "stream",
     "text": [
      "Строка B (1, 2) встречается в строках A:\n",
      "[[1 2 3]\n",
      " [3 2 1]\n",
      " [1 2 4]]\n",
      "\n",
      "Строка B (5, 6) встречается в строках A:\n",
      "[[4 5 6]\n",
      " [5 6 7]\n",
      " [6 5 4]]\n",
      "\n"
     ]
    }
   ],
   "source": [
    "import numpy as np\n",
    "\n",
    "A = np.array([\n",
    "    [1, 2, 3],\n",
    "    [3, 2, 1],\n",
    "    [1, 2, 4],\n",
    "    [4, 5, 6],\n",
    "    [5, 6, 7],\n",
    "    [7, 8, 9],\n",
    "    [2, 4, 6],\n",
    "    [6, 5, 4]\n",
    "])\n",
    "\n",
    "B = np.array([\n",
    "    [1, 2],\n",
    "    [5, 6]\n",
    "])\n",
    "\n",
    "matching_rows = {}\n",
    "\n",
    "for b_row in B:\n",
    "    mask = np.array([all(item in row for item in b_row) for row in A])\n",
    "    matching_rows[tuple(int(x) for x in b_row)] = A[mask]\n",
    "\n",
    "for b_row, rows in matching_rows.items():\n",
    "    print(f\"Строка B {b_row} встречается в строках A:\\n{rows}\\n\")\n"
   ]
  },
  {
   "cell_type": "markdown",
   "id": "fa46533b",
   "metadata": {},
   "source": [
    "**5.** Дана 10x3 матрица, найти строки из неравных значений (например строка [2,2,3] остается, строка [3,3,3] удаляется)"
   ]
  },
  {
   "cell_type": "code",
   "execution_count": 12,
   "id": "fa545b23",
   "metadata": {},
   "outputs": [
    {
     "name": "stdout",
     "output_type": "stream",
     "text": [
      "Строки с неравными значениями:\n",
      " [[1 2 3]\n",
      " [2 2 3]\n",
      " [4 5 6]\n",
      " [1 1 2]\n",
      " [7 8 9]\n",
      " [1 2 1]\n",
      " [3 4 5]\n",
      " [6 6 7]]\n"
     ]
    }
   ],
   "source": [
    "import numpy as np\n",
    "\n",
    "arr = np.array([\n",
    "    [1, 2, 3],\n",
    "    [3, 3, 3],\n",
    "    [2, 2, 3],\n",
    "    [4, 5, 6],\n",
    "    [1, 1, 2],\n",
    "    [7, 8, 9],\n",
    "    [0, 0, 0],\n",
    "    [1, 2, 1],\n",
    "    [3, 4, 5],\n",
    "    [6, 6, 7]\n",
    "])\n",
    "\n",
    "mask = np.apply_along_axis(lambda row: len(np.unique(row)) > 1, 1, arr)\n",
    "\n",
    "filtered_arr = arr[mask]\n",
    "\n",
    "print(\"Строки с неравными значениями:\\n\", filtered_arr)\n"
   ]
  },
  {
   "cell_type": "markdown",
   "id": "28f0d116",
   "metadata": {},
   "source": [
    "**6.** Дан двумерный массив. Удалить те строки, которые повторяются"
   ]
  },
  {
   "cell_type": "code",
   "execution_count": 13,
   "id": "83d2c0b7",
   "metadata": {
    "collapsed": true,
    "jupyter": {
     "outputs_hidden": true
    }
   },
   "outputs": [
    {
     "name": "stdout",
     "output_type": "stream",
     "text": [
      "Уникальные строки:\n",
      " [[1 2 3]\n",
      " [4 5 6]\n",
      " [7 8 9]]\n"
     ]
    }
   ],
   "source": [
    "import numpy as np\n",
    "\n",
    "arr = np.array([\n",
    "    [1, 2, 3],\n",
    "    [4, 5, 6],\n",
    "    [1, 2, 3],\n",
    "    [7, 8, 9],\n",
    "    [4, 5, 6]\n",
    "])\n",
    "\n",
    "unique_rows = np.unique(arr, axis=0)\n",
    "\n",
    "print(\"Уникальные строки:\\n\", unique_rows)\n"
   ]
  },
  {
   "cell_type": "markdown",
   "id": "6daa9e37",
   "metadata": {},
   "source": [
    "______\n",
    "______"
   ]
  },
  {
   "cell_type": "markdown",
   "id": "cfbfcaff",
   "metadata": {},
   "source": [
    "Для каждой из следующих задач (1-5) нужно привести 2 реализации – одна без использования numpy (cчитайте, что там, где на входе или выходе должны быть numpy array, будут просто списки), а вторая полностью векторизованная с использованием numpy (без использования питоновских циклов/map/list comprehension).\n",
    "\n",
    "\n",
    "__Замечание 1.__ Можно считать, что все указанные объекты непустые (к примеру, в __задаче 1__ на диагонали матрицы есть ненулевые элементы).\n",
    "\n",
    "__Замечание 2.__ Для большинства задач решение занимает не больше 1-2 строк."
   ]
  },
  {
   "cell_type": "markdown",
   "id": "673cac7f",
   "metadata": {},
   "source": [
    "___"
   ]
  },
  {
   "cell_type": "markdown",
   "id": "ca6f585e",
   "metadata": {},
   "source": [
    "* __Задача 1__: Подсчитать произведение ненулевых элементов на диагонали прямоугольной матрицы.  \n",
    " Например, для X = np.array([[1, 0, 1], [2, 0, 2], [3, 0, 3], [4, 4, 4]]) ответ 3."
   ]
  },
  {
   "cell_type": "code",
   "execution_count": 15,
   "id": "065862fc",
   "metadata": {},
   "outputs": [
    {
     "name": "stdout",
     "output_type": "stream",
     "text": [
      "3\n",
      "3\n"
     ]
    }
   ],
   "source": [
    "# Чистый Python\n",
    "X = [\n",
    "    [1, 0, 1],\n",
    "    [2, 0, 2],\n",
    "    [3, 0, 3],\n",
    "    [4, 4, 4]\n",
    "]\n",
    "\n",
    "n = min(len(X), len(X[0]))\n",
    "diag = [X[i][i] for i in range(n) if X[i][i] != 0]\n",
    "\n",
    "prod = 1\n",
    "for val in diag:\n",
    "    prod *= val\n",
    "\n",
    "print(prod)\n",
    "\n",
    "# NumPy\n",
    "\n",
    "import numpy as np\n",
    "\n",
    "X = np.array([\n",
    "    [1, 0, 1],\n",
    "    [2, 0, 2],\n",
    "    [3, 0, 3],\n",
    "    [4, 4, 4]\n",
    "])\n",
    "\n",
    "diag = np.diagonal(X)  \n",
    "prod = np.prod(diag[diag != 0])\n",
    "print(prod)\n"
   ]
  },
  {
   "cell_type": "markdown",
   "id": "9fc51d41",
   "metadata": {},
   "source": [
    "* __Задача 2__: Даны два вектора x и y. Проверить, задают ли они одно и то же мультимножество.  \n",
    "  Например, для x = np.array([1, 2, 2, 4]), y = np.array([4, 2, 1, 2]) ответ True."
   ]
  },
  {
   "cell_type": "code",
   "execution_count": 16,
   "id": "a809e02f",
   "metadata": {},
   "outputs": [
    {
     "name": "stdout",
     "output_type": "stream",
     "text": [
      "True\n",
      "True\n"
     ]
    }
   ],
   "source": [
    "# Чистый Python\n",
    "\n",
    "x = [1, 2, 2, 4]\n",
    "y = [4, 2, 1, 2]\n",
    "\n",
    "def same_multiset(a, b):\n",
    "    unique_elements = set(a + b)\n",
    "    return all(a.count(e) == b.count(e) for e in unique_elements)\n",
    "\n",
    "result = same_multiset(x, y)\n",
    "print(result)\n",
    "\n",
    "# NumPy\n",
    "\n",
    "import numpy as np\n",
    "\n",
    "x = np.array([1, 2, 2, 4])\n",
    "y = np.array([4, 2, 1, 2])\n",
    "\n",
    "ux, cx = np.unique(x, return_counts=True)\n",
    "uy, cy = np.unique(y, return_counts=True)\n",
    "\n",
    "result = np.array_equal(ux, uy) and np.array_equal(cx, cy)\n",
    "print(result) \n",
    "\n"
   ]
  },
  {
   "cell_type": "markdown",
   "id": "b9c185c7",
   "metadata": {},
   "source": [
    "* __Задача 3__: Найти максимальный элемент в векторе x среди элементов, перед которыми стоит ноль. \n",
    " Например, для x = np.array([6, 2, 0, 3, 0, 0, 5, 7, 0]) ответ 5."
   ]
  },
  {
   "cell_type": "code",
   "execution_count": 17,
   "id": "b57df008",
   "metadata": {},
   "outputs": [
    {
     "name": "stdout",
     "output_type": "stream",
     "text": [
      "5\n",
      "5\n"
     ]
    }
   ],
   "source": [
    "# Чистый Python\n",
    "\n",
    "x = [6, 2, 0, 3, 0, 0, 5, 7, 0]\n",
    "\n",
    "values_after_zero = [x[i] for i in range(1, len(x)) if x[i-1] == 0]\n",
    "\n",
    "max_val = max(values_after_zero)\n",
    "print(max_val)\n",
    "\n",
    "# NumPy\n",
    "\n",
    "import numpy as np\n",
    "\n",
    "x = np.array([6, 2, 0, 3, 0, 0, 5, 7, 0])\n",
    "\n",
    "mask = x[:-1] == 0\n",
    "max_val = np.max(x[1:][mask])\n",
    "print(max_val) \n",
    "\n"
   ]
  },
  {
   "cell_type": "markdown",
   "id": "480be4ce",
   "metadata": {},
   "source": [
    "* __Задача 4__: Реализовать кодирование длин серий (Run-length encoding). Для некоторого вектора x необходимо вернуть кортеж из двух векторов одинаковой длины. Первый содержит числа, а второй - сколько раз их нужно повторить.  \n",
    " Например, для x = np.array([2, 2, 2, 3, 3, 3, 5]) ответ (np.array([2, 3, 5]), np.array([3, 3, 1]))."
   ]
  },
  {
   "cell_type": "code",
   "execution_count": 18,
   "id": "3c592124",
   "metadata": {},
   "outputs": [
    {
     "name": "stdout",
     "output_type": "stream",
     "text": [
      "[2, 3, 5]\n",
      "[3, 3, 1]\n",
      "[2 3 5]\n",
      "[3 3 1]\n"
     ]
    }
   ],
   "source": [
    "# Чистый Python\n",
    "\n",
    "x = [2, 2, 2, 3, 3, 3, 5]\n",
    "\n",
    "values = []\n",
    "counts = []\n",
    "\n",
    "current = x[0]\n",
    "count = 1\n",
    "\n",
    "for i in range(1, len(x)):\n",
    "    if x[i] == current:\n",
    "        count += 1\n",
    "    else:\n",
    "        values.append(current)\n",
    "        counts.append(count)\n",
    "        current = x[i]\n",
    "        count = 1\n",
    "\n",
    "values.append(current)\n",
    "counts.append(count)\n",
    "\n",
    "print(values)  \n",
    "print(counts)\n",
    "\n",
    "# NumPy\n",
    "\n",
    "import numpy as np\n",
    "\n",
    "x = np.array([2, 2, 2, 3, 3, 3, 5])\n",
    "\n",
    "change_indices = np.where(np.diff(x) != 0)[0] + 1\n",
    "\n",
    "counts = np.diff(np.concatenate(([0], change_indices, [len(x)])))\n",
    "values = x[np.concatenate(([0], change_indices))]\n",
    "\n",
    "print(values) \n",
    "print(counts) \n",
    "\n"
   ]
  },
  {
   "cell_type": "markdown",
   "id": "077532ec",
   "metadata": {},
   "source": [
    "* __Задача 5__: Даны две выборки объектов - X и Y. Вычислить матрицу евклидовых расстояний между объектами. Сравните с функцией scipy.spatial.distance.cdist по скорости работы."
   ]
  },
  {
   "cell_type": "code",
   "execution_count": 19,
   "id": "1e807797",
   "metadata": {},
   "outputs": [
    {
     "name": "stdout",
     "output_type": "stream",
     "text": [
      "[2.0, 1.4142135623730951]\n",
      "[4.47213595499958, 4.242640687119285]\n",
      "[7.211102550927978, 7.0710678118654755]\n",
      "[[2.         1.41421356]\n",
      " [4.47213595 4.24264069]\n",
      " [7.21110255 7.07106781]]\n"
     ]
    }
   ],
   "source": [
    "# Чистый Python\n",
    "\n",
    "import math\n",
    "\n",
    "X = [[1, 2], [3, 4], [5, 6]]\n",
    "Y = [[1, 0], [0, 1]]\n",
    "\n",
    "dist_matrix = []\n",
    "\n",
    "for x in X:\n",
    "    row = []\n",
    "    for y in Y:\n",
    "        dist = math.sqrt(sum((xi - yi) ** 2 for xi, yi in zip(x, y)))\n",
    "        row.append(dist)\n",
    "    dist_matrix.append(row)\n",
    "\n",
    "for row in dist_matrix:\n",
    "    print(row)\n",
    "\n",
    "# NumPy\n",
    "\n",
    "import numpy as np\n",
    "\n",
    "X = np.array([[1, 2], [3, 4], [5, 6]])\n",
    "Y = np.array([[1, 0], [0, 1]])\n",
    "\n",
    "diff = X[:, np.newaxis, :] - Y[np.newaxis, :, :]\n",
    "dist_matrix = np.sqrt(np.sum(diff**2, axis=2))\n",
    "\n",
    "print(dist_matrix)\n",
    "\n"
   ]
  },
  {
   "cell_type": "markdown",
   "id": "973e8064",
   "metadata": {},
   "source": [
    "_______\n",
    "________"
   ]
  },
  {
   "cell_type": "markdown",
   "id": "1104acb7",
   "metadata": {},
   "source": [
    "* #### __Задача 6__: CrunchieMunchies __*__\n",
    "\n",
    "Вы работаете в отделе маркетинга пищевой компании MyCrunch, которая разрабатывает новый вид вкусных, полезных злаков под названием **CrunchieMunchies**.\n",
    "\n",
    "Вы хотите продемонстрировать потребителям, насколько полезны ваши хлопья по сравнению с другими ведущими брендами, поэтому вы собрали данные о питании нескольких разных конкурентов.\n",
    "\n",
    "Ваша задача - использовать вычисления Numpy для анализа этих данных и доказать, что ваши **СrunchieMunchies** - самый здоровый выбор для потребителей.\n"
   ]
  },
  {
   "cell_type": "code",
   "execution_count": null,
   "id": "10a77f8d",
   "metadata": {},
   "outputs": [],
   "source": [
    "import numpy as np"
   ]
  },
  {
   "cell_type": "markdown",
   "id": "ab87cb03",
   "metadata": {},
   "source": [
    "1. Просмотрите файл cereal.csv. Этот файл содержит количества калорий для различных марок хлопьев. Загрузите данные из файла и сохраните их как calorie_stats."
   ]
  },
  {
   "cell_type": "code",
   "execution_count": 20,
   "id": "9681ebf2",
   "metadata": {},
   "outputs": [
    {
     "data": {
      "text/plain": [
       "array([ 70., 120.,  70.,  50., 110., 110., 110., 130.,  90.,  90., 120.,\n",
       "       110., 120., 110., 110., 110., 100., 110., 110., 110., 100., 110.,\n",
       "       100., 100., 110., 110., 100., 120., 120., 110., 100., 110., 100.,\n",
       "       110., 120., 120., 110., 110., 110., 140., 110., 100., 110., 100.,\n",
       "       150., 150., 160., 100., 120., 140.,  90., 130., 120., 100.,  50.,\n",
       "        50., 100., 100., 120., 100.,  90., 110., 110.,  80.,  90.,  90.,\n",
       "       110., 110.,  90., 110., 140., 100., 110., 110., 100., 100., 110.])"
      ]
     },
     "execution_count": 20,
     "metadata": {},
     "output_type": "execute_result"
    }
   ],
   "source": [
    "calorie_stats = np.loadtxt(\"./data/cereal.csv\", delimiter=\",\")\n",
    "calorie_stats"
   ]
  },
  {
   "cell_type": "markdown",
   "id": "139cfbd8",
   "metadata": {},
   "source": [
    "2. В одной порции CrunchieMunchies содержится 60 калорий. Насколько выше среднее количество калорий у ваших конкурентов?\n",
    "\n",
    "Сохраните ответ в переменной average_calories и распечатайте переменную в терминале"
   ]
  },
  {
   "cell_type": "code",
   "execution_count": 21,
   "id": "7036d240",
   "metadata": {},
   "outputs": [
    {
     "name": "stdout",
     "output_type": "stream",
     "text": [
      "Среднее количество калорий у конкурентов: 106.88311688311688\n",
      "Насколько выше калорийность у конкурентов: 46.883116883116884\n"
     ]
    }
   ],
   "source": [
    "import numpy as np\n",
    "\n",
    "calorie_stats = np.loadtxt(\"./data/cereal.csv\", delimiter=\",\")\n",
    "\n",
    "crunchie_calories = 60\n",
    "\n",
    "average_calories = np.mean(calorie_stats)\n",
    "\n",
    "calorie_difference = average_calories - crunchie_calories\n",
    "\n",
    "print(\"Среднее количество калорий у конкурентов:\", average_calories)\n",
    "print(\"Насколько выше калорийность у конкурентов:\", calorie_difference)\n"
   ]
  },
  {
   "cell_type": "markdown",
   "id": "b2ddb4cd",
   "metadata": {},
   "source": [
    "3. Корректно ли среднее количество калорий отражает распределение набора данных? Давайте отсортируем данные и посмотрим.\n",
    "\n",
    "Отсортируйте данные и сохраните результат в переменной calorie_stats_sorted. Распечатайте отсортированную информацию"
   ]
  },
  {
   "cell_type": "code",
   "execution_count": 22,
   "id": "46eeb4ed",
   "metadata": {},
   "outputs": [
    {
     "name": "stdout",
     "output_type": "stream",
     "text": [
      "Отсортированные калории конкурентов:\n",
      "[ 50.  50.  50.  70.  70.  80.  90.  90.  90.  90.  90.  90.  90. 100.\n",
      " 100. 100. 100. 100. 100. 100. 100. 100. 100. 100. 100. 100. 100. 100.\n",
      " 100. 100. 110. 110. 110. 110. 110. 110. 110. 110. 110. 110. 110. 110.\n",
      " 110. 110. 110. 110. 110. 110. 110. 110. 110. 110. 110. 110. 110. 110.\n",
      " 110. 110. 110. 120. 120. 120. 120. 120. 120. 120. 120. 120. 120. 130.\n",
      " 130. 140. 140. 140. 150. 150. 160.]\n"
     ]
    }
   ],
   "source": [
    "import numpy as np\n",
    "\n",
    "calorie_stats_sorted = np.sort(calorie_stats)\n",
    "\n",
    "print(\"Отсортированные калории конкурентов:\")\n",
    "print(calorie_stats_sorted)\n"
   ]
  },
  {
   "cell_type": "markdown",
   "id": "4dc74116",
   "metadata": {},
   "source": [
    "4. Похоже, что большинство значений выше среднего. Давайте посмотрим, является ли медиана наиболее корректным показателем набора данных.\n",
    "\n",
    "Вычислите медиану набора данных и сохраните свой ответ в median_calories. Выведите медиану, чтобы вы могли видеть, как она сравнивается со средним значением."
   ]
  },
  {
   "cell_type": "code",
   "execution_count": 24,
   "id": "b56627c3",
   "metadata": {},
   "outputs": [
    {
     "name": "stdout",
     "output_type": "stream",
     "text": [
      "Медиана калорий конкурентов: 110.0\n"
     ]
    }
   ],
   "source": [
    "median_calories = np.median(calorie_stats)\n",
    "\n",
    "print(\"Медиана калорий конкурентов:\", median_calories)"
   ]
  },
  {
   "cell_type": "markdown",
   "id": "a63ab72f",
   "metadata": {},
   "source": [
    "5. В то время как медиана показывает, что по крайней мере половина наших значений составляет более 100 калорий, было бы более впечатляюще показать, что значительная часть конкурентов имеет более высокое количество калорий, чем CrunchieMunchies.\n",
    "\n",
    "Рассчитайте различные процентили и распечатайте их, пока не найдете наименьший процентиль, превышающий 60 калорий. Сохраните это значение в переменной nth_percentile."
   ]
  },
  {
   "cell_type": "code",
   "execution_count": 25,
   "id": "fe80ce03",
   "metadata": {},
   "outputs": [
    {
     "name": "stdout",
     "output_type": "stream",
     "text": [
      "Наименьший процентиль, превышающий 60 калорий: 4\n"
     ]
    }
   ],
   "source": [
    "import numpy as np\n",
    "\n",
    "percentiles = np.arange(0, 101, 1) \n",
    "percentile_values = np.percentile(calorie_stats, percentiles)\n",
    "\n",
    "nth_percentile = percentiles[np.where(percentile_values > 60)[0][0]]\n",
    "\n",
    "print(\"Наименьший процентиль, превышающий 60 калорий:\", nth_percentile)\n"
   ]
  },
  {
   "cell_type": "markdown",
   "id": "a2a3c5aa",
   "metadata": {},
   "source": [
    "6. Хотя процентиль показывает нам, что у большинства конкурентов количество калорий намного выше, это неудобная концепция для использования в маркетинговых материалах.\n",
    "\n",
    "Вместо этого давайте подсчитаем процент хлопьев, в которых содержится более 60 калорий на порцию. Сохраните свой ответ в переменной more_calories и распечатайте его"
   ]
  },
  {
   "cell_type": "code",
   "execution_count": 26,
   "id": "ade0f6ea",
   "metadata": {},
   "outputs": [
    {
     "name": "stdout",
     "output_type": "stream",
     "text": [
      "96.1038961038961\n"
     ]
    }
   ],
   "source": [
    "import numpy as np\n",
    "\n",
    "more_calories = np.sum(calorie_stats > 60) / len(calorie_stats) * 100\n",
    "print(more_calories)\n"
   ]
  },
  {
   "cell_type": "markdown",
   "id": "1735d65b",
   "metadata": {},
   "source": [
    "7. Это действительно высокий процент. Это будет очень полезно, когда мы будем продвигать CrunchieMunchies. Но один вопрос заключается в том, насколько велики различия в наборе данных? Можем ли мы сделать обобщение, что в большинстве злаков содержится около 100 калорий или разброс еще больше?\n",
    "\n",
    "Рассчитайте величину отклонения, найдя стандартное отклонение, Сохраните свой ответ в calorie_std и распечатайте на терминале. Как мы можем включить эту ценность в наш анализ?"
   ]
  },
  {
   "cell_type": "code",
   "execution_count": 27,
   "id": "85c8df1f",
   "metadata": {},
   "outputs": [
    {
     "name": "stdout",
     "output_type": "stream",
     "text": [
      "19.35718533390827\n"
     ]
    }
   ],
   "source": [
    "import numpy as np\n",
    "\n",
    "calorie_std = np.std(calorie_stats)\n",
    "print(calorie_std)\n"
   ]
  },
  {
   "cell_type": "markdown",
   "id": "037455c5",
   "metadata": {},
   "source": [
    "8. Напишите короткий абзац, в котором кратко изложите свои выводы и то, как, по вашему мнению, эти данные могут быть использованы в интересах Mycrunch при маркетинге CrunchieMunchies."
   ]
  },
  {
   "cell_type": "code",
   "execution_count": null,
   "id": "c260fee9",
   "metadata": {},
   "outputs": [],
   "source": [
    "# CrunchieMunchies является наименее калорийным выбором среди большинства конкурентов, \n",
    "# что можно использовать в маркетинговых материалах, \n",
    "# акцентируя внимание на пользе и лёгкости продукта для здоровья потребителей."
   ]
  }
 ],
 "metadata": {
  "kernelspec": {
   "display_name": "Python 3 (ipykernel)",
   "language": "python",
   "name": "python3"
  },
  "language_info": {
   "codemirror_mode": {
    "name": "ipython",
    "version": 3
   },
   "file_extension": ".py",
   "mimetype": "text/x-python",
   "name": "python",
   "nbconvert_exporter": "python",
   "pygments_lexer": "ipython3",
   "version": "3.11.9"
  }
 },
 "nbformat": 4,
 "nbformat_minor": 5
}
